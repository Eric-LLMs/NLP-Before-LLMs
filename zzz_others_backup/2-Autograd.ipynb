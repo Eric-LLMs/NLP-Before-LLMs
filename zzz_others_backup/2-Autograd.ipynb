{
 "cells": [
  {
   "cell_type": "markdown",
   "metadata": {},
   "source": [
    "<div>\n",
    "<img src=\"https://discuss.pytorch.org/uploads/default/original/2X/3/35226d9fbc661ced1c5d17e374638389178c3176.png\" width=\"400\" style=\"margin: 50px auto; display: block; position: relative; left: -30px;\" />\n",
    "</div>\n",
    "\n",
    "<!--NAVIGATION-->\n",
    "# < [Basics](1-Basics.ipynb) | Autograd | [Optimization](3-Optimization.ipynb) >"
   ]
  },
  {
   "cell_type": "markdown",
   "metadata": {},
   "source": [
    "### Automatic Differentiation\n",
    "\n",
    "Automatic differentation (autodiff) is a key feature of PyTorch.\n",
    "PyTorch can differentiate the outcome of any computation with respect to its inputs. You don't need to compute the gradients yourself. This allows you to express and optimize complex models without worrying about correctly differentiating the model.\n",
    "\n",
    "We will start by discussing a little bit of the math behind autodiff. We then cover PyTorch's `.backward()` method that does everything automatically for you. Finally, we have a quick look under the hood to see how PyTorch does its magic.\n",
    "\n",
    "### Table of Contents\n",
    "\n",
    "#### 1. [Usage in PyTorch](#Usage-in-PyTorch)\n",
    "#### 2. [Differentiation fundamentals](#Differentiation-fundamentals)\n",
    "#### 3. [Advanced topics](#Advanced-topics)\n",
    "---\n"
   ]
  },
  {
   "cell_type": "code",
   "execution_count": 1,
   "metadata": {
    "ExecuteTime": {
     "end_time": "2024-11-09T11:48:25.053876Z",
     "start_time": "2024-11-09T11:48:20.077447100Z"
    }
   },
   "outputs": [
    {
     "data": {
      "text/plain": "'2.0.0+cpu'"
     },
     "execution_count": 1,
     "metadata": {},
     "output_type": "execute_result"
    }
   ],
   "source": [
    "import torch\n",
    "torch.__version__"
   ]
  },
  {
   "cell_type": "markdown",
   "metadata": {},
   "source": [
    "---\n",
    "# Usage in PyTorch\n",
    "\n",
    "Let's start with a simple function: $f(x) = 3 x^2 + 4$. It is easy to see that the derivative $\\frac{d}{dx}f(x)$ equals $6 \\cdot x$. PyTorch can compute this for us:"
   ]
  },
  {
   "cell_type": "code",
   "execution_count": 22,
   "metadata": {
    "ExecuteTime": {
     "end_time": "2024-11-09T12:54:12.379434100Z",
     "start_time": "2024-11-09T12:54:12.367519900Z"
    }
   },
   "outputs": [
    {
     "name": "stdout",
     "output_type": "stream",
     "text": [
      "x = 2.0\n",
      "z = 1.0\n",
      "y = 216.0\n",
      "PyTorch computed the gradient of x 12.0\n",
      "We would expect it to be 12.0\n",
      "PyTorch computed the gradient None of z\n"
     ]
    }
   ],
   "source": [
    "# Initialize x with some value\n",
    "x = torch.tensor(2.0, requires_grad=True)\n",
    "z = torch.tensor(1.0, requires_grad=False)\n",
    "# z = torch.tensor(1.0, requires_grad=True)\n",
    "print(\"x = {}\".format(x))\n",
    "print(\"z = {}\".format(z))\n",
    "\n",
    "# Execute f(x)\n",
    "y = 3 * x**2  + 4 + z * 200\n",
    "print(\"y = {}\".format(y))\n",
    "\n",
    "# Compute the gradient of y with respect to all variables that have 'requires_grad' turned on\n",
    "y.backward()\n",
    "\n",
    "# Checking the result\n",
    "computed_gradient = x.grad\n",
    "computed_gradient_z = z.grad\n",
    "print(\"PyTorch computed the gradient of x {}\".format(computed_gradient))\n",
    "print(\"We would expect it to be {}\".format(6 * x))\n",
    "\n",
    "print(\"PyTorch computed the gradient {} of z\".format(computed_gradient_z))\n",
    "# print(\"We would expect it to be {}\".format(6 * x))"
   ]
  },
  {
   "cell_type": "code",
   "execution_count": 37,
   "outputs": [
    {
     "name": "stdout",
     "output_type": "stream",
     "text": [
      "W 的梯度:\n",
      " tensor([[ 1.6563, -0.9341],\n",
      "        [-0.6054,  0.1624],\n",
      "        [-0.7438,  1.1638]])\n",
      "b 的梯度:\n",
      "\n",
      " tensor([-0.4886, -0.6778])\n",
      "W 的梯度:\n",
      " tensor([[ 1.6563, -0.9341],\n",
      "        [-0.6054,  0.1624],\n",
      "        [-0.7438,  1.1638]])\n",
      "b 的梯度:\n",
      " tensor([-0.4886, -0.6778])\n"
     ]
    }
   ],
   "source": [
    "import torch.nn as nn\n",
    "\n",
    "# 设置随机数种子以便复现\n",
    "torch.manual_seed(0)\n",
    "\n",
    "# 定义输入数据和目标数据\n",
    "X = torch.randn(5, 3)  # 输入数据矩阵，形状 (5, 3)\n",
    "y_true = torch.randn(5, 2)  # 目标值，形状 (5, 2)\n",
    "\n",
    "# 定义模型参数（权重和偏置），启用梯度计算\n",
    "W = torch.randn(3, 2, requires_grad=True)  # 权重矩阵，形状 (3, 2)\n",
    "b = torch.randn(2, requires_grad=True)     # 偏置向量，形状 (2)\n",
    "\n",
    "# 前向传播\n",
    "y_pred = X @ W + b  # 模型预测，@ 表示矩阵乘法\n",
    "\n",
    "# 计算均方误差 (MSE) 损失\n",
    "loss = nn.functional.mse_loss(y_pred, y_true)\n",
    "\n",
    "# 反向传播，计算梯度\n",
    "loss.backward(retain_graph=True) # 参数来保留计算图，使其可以被多次使用\n",
    "# 输出梯度\n",
    "print(\"W 的梯度:\\n\", W.grad)\n",
    "print(\"b 的梯度:\\n\\n\", b.grad)\n",
    "\n",
    "# # 多次反向传播，计算梯度，保留计算图，防止梯度累加 清零\n",
    "# loss.backward(retain_graph=True) # 参数来保留计算图，使其可以被多次使用\n",
    "# \n",
    "# # 输出梯度\n",
    "# print(\"W 的梯度:\\n\", W.grad)\n",
    "# print(\"b 的梯度:\\n\", b.grad)\n",
    "# \n",
    "for param in [W,b]:\n",
    "    if param is not None:\n",
    "        param.grad.zero_()\n",
    "\n",
    "# 反向传播，计算梯度\n",
    "loss.backward()\n",
    "\n",
    "# 输出梯度\n",
    "print(\"W 的梯度:\\n\", W.grad)\n",
    "print(\"b 的梯度:\\n\", b.grad)\n"
   ],
   "metadata": {
    "collapsed": false,
    "ExecuteTime": {
     "end_time": "2024-11-09T13:19:57.785542300Z",
     "start_time": "2024-11-09T13:19:57.707881500Z"
    }
   }
  },
  {
   "cell_type": "markdown",
   "metadata": {},
   "source": [
    "The `requires_grad` property on a Tensor tells PyTorch to track computations based on this tensor. \n",
    "After you compute a quantity `y` (forward pass), you can compute the gradient of `y` with respect to all tensors that have `requires_grad==True`. \n",
    "The gradient computation (the backward pass) is triggered with `y.backward()`. You will find the computed gradients in `tensor.grad`."
   ]
  },
  {
   "cell_type": "markdown",
   "metadata": {},
   "source": [
    "This simple polynomial expression is easy enough to differentiate by hand. When expressions become tensor-valued and more complex, however, computing gradients becomes tedious and error-prone. The power of PyTorch is that it can compute gradients of any tensor with respect to its 'inputs' automatically. This greatly simplifies the optimization of complex, creative ML models."
   ]
  },
  {
   "cell_type": "markdown",
   "metadata": {},
   "source": [
    "---\n",
    "\n",
    "# Differentiation fundamentals"
   ]
  },
  {
   "cell_type": "markdown",
   "metadata": {},
   "source": [
    "While this was easy enough to do by ourselves, differentiating more complex expressions takes time and is prone to human errors. Computers are much better at doing this correctly :)"
   ]
  },
  {
   "cell_type": "markdown",
   "metadata": {},
   "source": [
    "### Chain rule\n",
    "\n",
    "To differentiate an expression like $3x^2 + 4$ in a very methodical way, you can interpret it as a sequence of basic operations. Something like \n",
    "\n",
    "$$y = f(x) = \\text{plus4}(\\text{times3}(\\text{square}(x))).$$\n",
    "\n",
    "The gradient of $y$ with respect to $x$ can now be computed systematically using the chain rule:\n",
    "\n",
    "$$f'(x) = \\text{plus4}'(\\cdots) \\,\\cdot\\, \\text{times3}'(\\cdots) \\,\\cdot\\, \\text{square}'(x).$$\n",
    "\n",
    "### Computation graph\n",
    "\n",
    "When you indicate with `requires_grad` that you will need a gradient of some output w.r.t. some input `x`, PyTorch will track any computations that are based on `x`. This ‘history’ is called the **computation graph**. For our simple polynomial, it would look like this:\n",
    "\n",
    "<img src=\"figures/computation-graph-1.png\" alt=\"Forward pass\" width=\"70%\" />"
   ]
  },
  {
   "cell_type": "markdown",
   "metadata": {},
   "source": [
    "### Back-propagation\n",
    "\n",
    "After you have computed the output $y=3x^2+4$, you can call `y.backward()` to compute the gradients of $y$ with respect to all inputs that have `requires_grad`. You can see how the chain rule is naturally executed backwards:\n",
    "\n",
    "<img src=\"figures/computation-graph-2.png\" alt=\"Backward pass\" width=\"70%\" />"
   ]
  },
  {
   "cell_type": "markdown",
   "metadata": {},
   "source": [
    "### Clearing old gradients\n",
    "\n",
    "Let's revisit the previous basic example, but call `.backward()` multiple times:"
   ]
  },
  {
   "cell_type": "code",
   "execution_count": 41,
   "metadata": {
    "ExecuteTime": {
     "end_time": "2024-11-09T14:13:53.564608Z",
     "start_time": "2024-11-09T14:13:53.530462400Z"
    }
   },
   "outputs": [
    {
     "name": "stdout",
     "output_type": "stream",
     "text": [
      "PyTorch computed the gradient 12.0\n",
      "PyTorch computed the gradient 24.0\n"
     ]
    }
   ],
   "source": [
    "# Initialize x with some value\n",
    "x = torch.tensor(2.0, requires_grad=True)\n",
    "y = 3 * x**2  + 4\n",
    "\n",
    "y.backward()\n",
    "print(\"PyTorch computed the gradient {}\".format(x.grad))\n",
    "\n",
    "# !ERROR!\n",
    "y = 3 * x**2  + 4\n",
    "y.backward()\n",
    "print(\"PyTorch computed the gradient {}\".format(x.grad))"
   ]
  },
  {
   "cell_type": "markdown",
   "metadata": {},
   "source": [
    "You see that the second time, the gradient computed is too large. This is because `.backward()` __accumulates__ the gradients. If you want fresh values, you need to set `x.grad` to zero before you call `.backward()`.\n",
    "\n",
    "---\n",
    "\n",
    "__Exercise:__ <br>\n",
    "Fix the second gradient computation above to output the same value twice.\n",
    "\n",
    "\n",
    "---"
   ]
  },
  {
   "cell_type": "markdown",
   "metadata": {},
   "source": [
    "### Skipping history tracking with `torch.no_grad()`\n",
    "\n",
    "After you trained a model, you just want to use it without computing gradients.\n",
    "Building a computation graph for every operation would be wasteful if you don't need it.\n",
    "Therefore, you can skip these operations by wrapping your code with the `with torch.no_grad():` context."
   ]
  },
  {
   "cell_type": "code",
   "execution_count": 43,
   "metadata": {
    "ExecuteTime": {
     "end_time": "2024-11-09T14:16:12.094752200Z",
     "start_time": "2024-11-09T14:16:12.053240800Z"
    }
   },
   "outputs": [
    {
     "name": "stdout",
     "output_type": "stream",
     "text": [
      "x.requires_grad :  True\n",
      "y.requires_grad :  True\n",
      "y.requires_grad :  False\n"
     ]
    }
   ],
   "source": [
    "x = torch.randn(3, requires_grad=True)\n",
    "print(\"x.requires_grad : \", x.requires_grad)\n",
    "\n",
    "y = (x ** 2)\n",
    "print(\"y.requires_grad : \", y.requires_grad)\n",
    "\n",
    "with torch.no_grad():\n",
    "    y = (x ** 2)\n",
    "    print(\"y.requires_grad : \", y.requires_grad)"
   ]
  },
  {
   "cell_type": "markdown",
   "metadata": {},
   "source": [
    "Any variable created within the `no_grad` context will have `requires_grad==False`."
   ]
  },
  {
   "cell_type": "markdown",
   "metadata": {},
   "source": [
    "### Dropping history with `.detach()`\n",
    "\n",
    "Some tensors are computed from others, but you may want to consider them constants without computation history (leaf variables). For that, you can use the `.detach()` method."
   ]
  },
  {
   "cell_type": "code",
   "execution_count": 44,
   "metadata": {
    "ExecuteTime": {
     "end_time": "2024-11-09T14:21:00.506617Z",
     "start_time": "2024-11-09T14:21:00.461130100Z"
    }
   },
   "outputs": [
    {
     "name": "stdout",
     "output_type": "stream",
     "text": [
      "B :  tensor(0.5047, grad_fn=<MeanBackward0>)\n",
      "B.requires_grad : True\n",
      "\n",
      "-- C = B.detach() -- \n",
      "\n",
      "C :  tensor(0.5047)\n",
      "C.requires_grad : False\n"
     ]
    }
   ],
   "source": [
    "A = torch.rand(1,2, requires_grad=True)\n",
    "B = A.mean()\n",
    "\n",
    "print(\"B : \", B)\n",
    "print(\"B.requires_grad :\", B.requires_grad)\n",
    "\n",
    "C = B.detach()\n",
    "print(\"\\n-- C = B.detach() -- \\n\")\n",
    "\n",
    "print(\"C : \", C)\n",
    "print(\"C.requires_grad :\", C.requires_grad)"
   ]
  },
  {
   "cell_type": "code",
   "execution_count": 45,
   "outputs": [
    {
     "name": "stdout",
     "output_type": "stream",
     "text": [
      "A 的梯度: tensor([0.5000, 0.5000])\n",
      "D 的梯度: tensor([1., 1.])\n"
     ]
    }
   ],
   "source": [
    "import torch\n",
    "\n",
    "# 两个张量都启用梯度跟踪\n",
    "A = torch.tensor([2.0, 3.0], requires_grad=True)\n",
    "D = torch.tensor([1.0, 4.0], requires_grad=True)\n",
    "\n",
    "# 计算 B 作为 A 和 D 的函数\n",
    "B = A.mean() + D.sum()\n",
    "\n",
    "# 执行反向传播\n",
    "B.backward()\n",
    "\n",
    "# 查看 A 和 D 的梯度\n",
    "print(\"A 的梯度:\", A.grad)\n",
    "print(\"D 的梯度:\", D.grad)\n"
   ],
   "metadata": {
    "collapsed": false,
    "ExecuteTime": {
     "end_time": "2024-11-09T14:33:09.849300Z",
     "start_time": "2024-11-09T14:33:09.806052500Z"
    }
   }
  },
  {
   "cell_type": "markdown",
   "metadata": {},
   "source": [
    "---\n",
    "\n",
    "### Exercise: Drawing matplotlib lines\n",
    "\n",
    "Gradients are not only useful for machine learning and optimization. In this exercise, you will use PyTorch's automatic differentiation to __find tangent lines__ in a 2-dimensional function."
   ]
  },
  {
   "cell_type": "markdown",
   "metadata": {},
   "source": [
    "Let's consider this complicated 2-dimensional function:"
   ]
  },
  {
   "cell_type": "code",
   "execution_count": 49,
   "metadata": {
    "ExecuteTime": {
     "end_time": "2024-11-09T14:42:56.570079500Z",
     "start_time": "2024-11-09T14:42:56.543719500Z"
    }
   },
   "outputs": [],
   "source": [
    "def f(x, y):\n",
    "    radius = torch.sqrt(x**2 + y**2)\n",
    "    angle = torch.atan2(y, x)\n",
    "    return radius * (1 + 0.5 * torch.cos(3.4 * angle))"
   ]
  },
  {
   "cell_type": "markdown",
   "metadata": {},
   "source": [
    "We can plot it using `matplotlib`. The x and y axes represent inputs, and the color indicates the function value of `f`."
   ]
  },
  {
   "cell_type": "code",
   "execution_count": 50,
   "metadata": {
    "scrolled": true,
    "ExecuteTime": {
     "end_time": "2024-11-09T14:45:43.246089900Z",
     "start_time": "2024-11-09T14:45:41.639693500Z"
    }
   },
   "outputs": [
    {
     "name": "stderr",
     "output_type": "stream",
     "text": [
      "D:\\Anaconda3\\sk_env\\lib\\site-packages\\torch\\functional.py:504: UserWarning: torch.meshgrid: in an upcoming release, it will be required to pass the indexing argument. (Triggered internally at ..\\aten\\src\\ATen\\native\\TensorShape.cpp:3484.)\n",
      "  return _VF.meshgrid(tensors, **kwargs)  # type: ignore[attr-defined]\n"
     ]
    },
    {
     "data": {
      "text/plain": "<Figure size 640x480 with 2 Axes>",
      "image/png": "[encoded data removed]"
     },
     "metadata": {},
     "output_type": "display_data"
    }
   ],
   "source": [
    "from matplotlib import pyplot as plt\n",
    "\n",
    "def contour_plot():\n",
    "    grid_x, grid_y = torch.meshgrid(torch.arange(-3, 3.1, 0.1), torch.arange(-3, 3.1, 0.1))\n",
    "    outputs = f(grid_x, grid_y)\n",
    "    \n",
    "    plt.contourf(grid_x, grid_y, outputs, 20)\n",
    "    plt.colorbar(label=\"f(x, y)\")\n",
    "    plt.xlabel(\"input x\")\n",
    "    plt.ylabel(\"input y\")\n",
    "\n",
    "contour_plot()\n",
    "plt.show()"
   ]
  },
  {
   "cell_type": "markdown",
   "metadata": {},
   "source": [
    "__Exercise__<br>\n",
    "Your turn! Use autograd to differentiate `f` with respect to its two inputs."
   ]
  },
  {
   "cell_type": "code",
   "execution_count": 53,
   "metadata": {
    "ExecuteTime": {
     "end_time": "2024-11-09T15:02:03.851127100Z",
     "start_time": "2024-11-09T15:02:03.603213400Z"
    }
   },
   "outputs": [
    {
     "data": {
      "text/plain": "<Figure size 640x480 with 2 Axes>",
      "image/png": "[encoded data removed]"
     },
     "metadata": {},
     "output_type": "display_data"
    }
   ],
   "source": [
    "# x = torch.tensor(1.0)\n",
    "# y = torch.tensor(2.0)\n",
    "# # df_dx = # TODO\n",
    "# # df_dy = # TODO\n",
    "\n",
    "# Compute the derivative of f at the point (x, y) with respect to x and y\n",
    "x = torch.tensor(1.0, requires_grad=True)\n",
    "y = torch.tensor(2.0, requires_grad=True)\n",
    "\n",
    "f(x, y).backward()\n",
    "df_dx = x.grad\n",
    "df_dy = y.grad\n",
    "\n",
    "\n",
    "\n",
    "def plot_tangent_line(x, y, df_dx, df_dy):\n",
    "    x_points = torch.linspace(-3, 3, 100)\n",
    "    y_points = -x.grad / y.grad * (x_points - x.detach()) + y.detach()\n",
    "    plt.scatter(x.detach(), y.detach(), color='white')\n",
    "    plt.plot(x_points, y_points, color='white')\n",
    "    plt.xlim([-3, 3])\n",
    "    plt.ylim([-3, 3])\n",
    "\n",
    "\n",
    "# Now play with x and y and check if your gradient computation worked\n",
    "    \n",
    "contour_plot()\n",
    "plot_tangent_line(x, y, df_dx, df_dy)\n",
    "\n",
    "plt.show()"
   ]
  },
  {
   "cell_type": "markdown",
   "metadata": {},
   "source": [
    "---\n",
    "\n",
    "# Advanced topics"
   ]
  },
  {
   "cell_type": "markdown",
   "metadata": {},
   "source": [
    "### Leaves vs Nodes\n",
    "\n",
    "*Advanced*\n",
    "\n",
    "PyTorch's autograd mechanism differentiates between two types of tensors:\n",
    "- __node variables__ are the result of a pytorch operation\n",
    "- __leaf variables__ are directly created by a user\n",
    "\n",
    "Later in the tutorial, we will use the `.is_leaf` property to differentiate between the two types."
   ]
  },
  {
   "cell_type": "code",
   "execution_count": 54,
   "metadata": {
    "ExecuteTime": {
     "end_time": "2024-11-09T15:20:16.237954100Z",
     "start_time": "2024-11-09T15:20:16.192551500Z"
    }
   },
   "outputs": [
    {
     "name": "stdout",
     "output_type": "stream",
     "text": [
      "A.is_leaf : True\n",
      "B.is_leaf : False\n",
      "C.is_leaf : False\n"
     ]
    }
   ],
   "source": [
    "A = torch.tensor([[1., 2.], [3., 4.]], requires_grad=True)\n",
    "B = torch.tensor([[1., 2.], [3., 4.]], requires_grad=True) + 2  # B is the result of an operation (+)\n",
    "C = 5 * A  # C is the result of an operation (*)\n",
    "print(\"A.is_leaf :\", A.is_leaf)\n",
    "print(\"B.is_leaf :\", B.is_leaf)\n",
    "print(\"C.is_leaf :\", C.is_leaf)"
   ]
  },
  {
   "cell_type": "markdown",
   "metadata": {},
   "source": [
    "### Differentiating w.r.t. intermediate values: `.retain_grad()`\n",
    "\n",
    "*Advanced*"
   ]
  },
  {
   "cell_type": "markdown",
   "metadata": {},
   "source": [
    "When doing the backward pass, Autograd computes the gradient of the output with respect to every intermediate variables in the computation graph. However, by default, only gradients of variables that were **created by the user** (leaf) and **have the `requires_grad` property to True** are saved.\n",
    "\n",
    "Indeed, most of the time when training a model you only need the gradient of a loss w.r.t. to your model parameters (which are leaf variables). "
   ]
  },
  {
   "cell_type": "code",
   "execution_count": null,
   "metadata": {},
   "outputs": [],
   "source": [
    "A = torch.Tensor([[1, 2], [3, 4]])\n",
    "A.requires_grad_()\n",
    "\n",
    "B = 5 * (A + 3)\n",
    "C = B.mean()\n",
    "\n",
    "print(\"A.grad :\", A.grad)\n",
    "print(\"B.grad :\", B.grad)\n",
    "C.backward()\n",
    "print(\"\\n-- Backward --\\n\")\n",
    "print(\"A.grad :\", A.grad)\n",
    "print(\"B.grad :\", B.grad)\n",
    "\n",
    "# A.grad : None\n",
    "# B.grad : None\n",
    "# \n",
    "# -- Backward --\n",
    "# \n",
    "# A.grad : tensor([[1.2500, 1.2500],\n",
    "#         [1.2500, 1.2500]])\n",
    "# B.grad : None"
   ]
  },
  {
   "cell_type": "code",
   "execution_count": 60,
   "metadata": {
    "ExecuteTime": {
     "end_time": "2024-11-09T15:53:22.123281500Z",
     "start_time": "2024-11-09T15:53:22.078563100Z"
    }
   },
   "outputs": [
    {
     "name": "stdout",
     "output_type": "stream",
     "text": [
      "A.grad : None\n",
      "B.grad : None\n",
      "\n",
      "-- Backward --\n",
      "\n",
      "A.grad : tensor([[1.2500, 1.2500],\n",
      "        [1.2500, 1.2500]])\n",
      "B.grad : tensor([[0.2500, 0.2500],\n",
      "        [0.2500, 0.2500]])\n"
     ]
    }
   ],
   "source": [
    "A = torch.Tensor([[1, 2], [3, 4]])\n",
    "A.requires_grad_()\n",
    "\n",
    "B = 5 * (A + 3)\n",
    "B.retain_grad()  # <----- This line let us have access to gradient wrt. B after the backward pass 当执行 .backward() 时，它会自动清除不需要梯度的中间张量（例如 B，因为它是通过操作计算得到的）。如果我们希望能够访问 B 的梯度，就必须调用 retain_grad()。如果没有这行代码，那么即使 B 是由 A 得到的，它的梯度也不会被存储，而是被清除，因此无法在后续访问。\n",
    "C = B.mean()\n",
    "\n",
    "\n",
    "print(\"A.grad :\", A.grad)\n",
    "print(\"B.grad :\", B.grad)\n",
    "C.backward()\n",
    "print(\"\\n-- Backward --\\n\")\n",
    "print(\"A.grad :\", A.grad)\n",
    "print(\"B.grad :\", B.grad)"
   ]
  },
  {
   "cell_type": "markdown",
   "metadata": {},
   "source": [
    "### Inspecting PyTorch's computation graph\n",
    "\n",
    "*Advanced*\n",
    "\n",
    "\n",
    "You can explore how PyTorch keeps track of history by inspecting the `tensor.grad_fn` argument:"
   ]
  },
  {
   "cell_type": "code",
   "execution_count": 67,
   "metadata": {
    "ExecuteTime": {
     "end_time": "2024-11-09T16:00:25.992007400Z",
     "start_time": "2024-11-09T16:00:25.976004500Z"
    }
   },
   "outputs": [
    {
     "name": "stdout",
     "output_type": "stream",
     "text": [
      "<AddBackward0 object at 0x000002512E8C64A0>\n",
      "<MulBackward0 object at 0x000002512C7020B0>\n"
     ]
    }
   ],
   "source": [
    "# print(y.grad_fn)\n",
    "# print(y.grad_fn.next_functions[0][0])\n",
    "# print(y.grad_fn.next_functions[0][0].next_functions[0][0])\n",
    "\n",
    "x = torch.randn(2, 2, requires_grad=True)\n",
    "y = x * 2  + 2 # y 通过 x 计算得到\n",
    "\n",
    "print(y.grad_fn)  # 应该打印一个与操作相关的 Function\n",
    "print(y.grad_fn.next_functions[0][0])  # 访问计算图中与 x 相关的操作"
   ]
  },
  {
   "cell_type": "markdown",
   "metadata": {},
   "source": [
    "Each value has a `grad_fn` corresponding to the operation that produced the value. \n",
    "Each operation's `grad_fn` points to its inputs through `next_functions`.\n",
    "For each input, `next_functions` contains a tuple of the input's `grad_fn` and, if the operation had multiple outputs, an index of the relevant output."
   ]
  },
  {
   "cell_type": "code",
   "execution_count": 68,
   "metadata": {
    "ExecuteTime": {
     "end_time": "2024-11-09T16:01:05.270627400Z",
     "start_time": "2024-11-09T16:01:05.256660600Z"
    }
   },
   "outputs": [
    {
     "data": {
      "text/plain": "((<MulBackward0 at 0x2512c77e050>, 0), (None, 0))"
     },
     "execution_count": 68,
     "metadata": {},
     "output_type": "execute_result"
    }
   ],
   "source": [
    "# In our example, the final `add` operation has two inputs:\n",
    "# - The first is the output of `multiplication`.\n",
    "# - The second is a constant `4` for which we don't require a gradient.\n",
    "y.grad_fn.next_functions"
   ]
  },
  {
   "cell_type": "markdown",
   "metadata": {},
   "source": [
    "___"
   ]
  },
  {
   "cell_type": "markdown",
   "metadata": {},
   "source": [
    "<!--NAVIGATION-->\n",
    "# < [Basics](1-Basics.ipynb) | Autograd | [Optimization](3-Optimization.ipynb) >"
   ]
  },
  {
   "cell_type": "code",
   "execution_count": 68,
   "outputs": [],
   "source": [],
   "metadata": {
    "collapsed": false,
    "ExecuteTime": {
     "end_time": "2024-11-09T16:01:26.570306400Z",
     "start_time": "2024-11-09T16:01:26.539793900Z"
    }
   }
  },
  {
   "cell_type": "code",
   "execution_count": null,
   "outputs": [],
   "source": [],
   "metadata": {
    "collapsed": false
   }
  }
 ],
 "metadata": {
  "kernelspec": {
   "name": "sk_env",
   "language": "python",
   "display_name": "Python (sk_env)"
  },
  "language_info": {
   "codemirror_mode": {
    "name": "ipython",
    "version": 3
   },
   "file_extension": ".py",
   "mimetype": "text/x-python",
   "name": "python",
   "nbconvert_exporter": "python",
   "pygments_lexer": "ipython3",
   "version": "3.6.9"
  }
 },
 "nbformat": 4,
 "nbformat_minor": 4
}
